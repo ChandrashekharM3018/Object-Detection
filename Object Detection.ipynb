{
 "cells": [
  {
   "cell_type": "code",
   "execution_count": 21,
   "metadata": {},
   "outputs": [],
   "source": [
    "import imageai\n",
    "from imageai.Detection import ObjectDetection\n",
    "import os"
   ]
  },
  {
   "cell_type": "code",
   "execution_count": 22,
   "metadata": {},
   "outputs": [],
   "source": [
    "execution_path = os.getcwd()"
   ]
  },
  {
   "cell_type": "code",
   "execution_count": 24,
   "metadata": {},
   "outputs": [
    {
     "data": {
      "text/plain": [
       "'C:\\\\Users\\\\CHANDRU\\\\Desktop\\\\DS'"
      ]
     },
     "execution_count": 24,
     "metadata": {},
     "output_type": "execute_result"
    }
   ],
   "source": [
    "execution_path"
   ]
  },
  {
   "cell_type": "code",
   "execution_count": 28,
   "metadata": {},
   "outputs": [
    {
     "name": "stdout",
     "output_type": "stream",
     "text": [
      "tracking <tf.Variable 'Variable_50:0' shape=(9, 4) dtype=float32> anchors\n",
      "tracking <tf.Variable 'Variable_51:0' shape=(9, 4) dtype=float32> anchors\n",
      "tracking <tf.Variable 'Variable_52:0' shape=(9, 4) dtype=float32> anchors\n",
      "tracking <tf.Variable 'Variable_53:0' shape=(9, 4) dtype=float32> anchors\n",
      "tracking <tf.Variable 'Variable_54:0' shape=(9, 4) dtype=float32> anchors\n",
      "person  :  57.90001153945923\n",
      "person  :  74.13679361343384\n",
      "person  :  53.914445638656616\n",
      "person  :  52.57987380027771\n",
      "person  :  57.29367733001709\n",
      "person  :  68.1902825832367\n",
      "person  :  70.99279761314392\n",
      "motorcycle  :  59.454917907714844\n",
      "bus  :  96.95230722427368\n",
      "car  :  78.46722602844238\n",
      "person  :  66.80840253829956\n",
      "person  :  74.9822735786438\n",
      "person  :  60.33051013946533\n",
      "person  :  82.34256505966187\n",
      "person  :  66.41041040420532\n",
      "bicycle  :  78.98743152618408\n",
      "bicycle  :  90.91494679450989\n",
      "motorcycle  :  85.09023189544678\n"
     ]
    }
   ],
   "source": [
    "detector = ObjectDetection()\n",
    "detector.setModelTypeAsRetinaNet()\n",
    "detector.setModelPath(os.path.join(\"C:/Users/CHANDRU/Desktop/resnet50_coco_best_v2.0.1.h5\"))\n",
    "detector.loadModel()\n",
    "detections = detector.detectObjectsFromImage(input_image=os.path.join(\"C:/Users/CHANDRU/Desktop/new.jpg\"), output_image_path=os.path.join(\"C:/Users/CHANDRU/Desktop/train.jpg\"))\n",
    "\n",
    "for eachObject in detections:\n",
    "    print(eachObject[\"name\"] , \" : \" , eachObject[\"percentage_probability\"] )"
   ]
  },
  {
   "cell_type": "code",
   "execution_count": null,
   "metadata": {},
   "outputs": [],
   "source": []
  }
 ],
 "metadata": {
  "kernelspec": {
   "display_name": "Python 3",
   "language": "python",
   "name": "python3"
  },
  "language_info": {
   "codemirror_mode": {
    "name": "ipython",
    "version": 3
   },
   "file_extension": ".py",
   "mimetype": "text/x-python",
   "name": "python",
   "nbconvert_exporter": "python",
   "pygments_lexer": "ipython3",
   "version": "3.6.10"
  }
 },
 "nbformat": 4,
 "nbformat_minor": 4
}
